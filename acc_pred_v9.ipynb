{
  "cells": [
    {
      "cell_type": "code",
      "execution_count": 1,
      "id": "178d6daa",
      "metadata": {
        "colab": {
          "base_uri": "https://localhost:8080/"
        },
        "id": "178d6daa",
        "outputId": "035bd0d4-3116-433c-dc47-ae4f3b602531"
      },
      "outputs": [
        {
          "output_type": "stream",
          "name": "stdout",
          "text": [
            "Requirement already satisfied: torch in /usr/local/lib/python3.10/dist-packages (2.3.0+cu121)\n",
            "Requirement already satisfied: torchvision in /usr/local/lib/python3.10/dist-packages (0.18.0+cu121)\n",
            "Requirement already satisfied: filelock in /usr/local/lib/python3.10/dist-packages (from torch) (3.14.0)\n",
            "Requirement already satisfied: typing-extensions>=4.8.0 in /usr/local/lib/python3.10/dist-packages (from torch) (4.11.0)\n",
            "Requirement already satisfied: sympy in /usr/local/lib/python3.10/dist-packages (from torch) (1.12)\n",
            "Requirement already satisfied: networkx in /usr/local/lib/python3.10/dist-packages (from torch) (3.3)\n",
            "Requirement already satisfied: jinja2 in /usr/local/lib/python3.10/dist-packages (from torch) (3.1.4)\n",
            "Requirement already satisfied: fsspec in /usr/local/lib/python3.10/dist-packages (from torch) (2023.6.0)\n",
            "Collecting nvidia-cuda-nvrtc-cu12==12.1.105 (from torch)\n",
            "  Using cached nvidia_cuda_nvrtc_cu12-12.1.105-py3-none-manylinux1_x86_64.whl (23.7 MB)\n",
            "Collecting nvidia-cuda-runtime-cu12==12.1.105 (from torch)\n",
            "  Using cached nvidia_cuda_runtime_cu12-12.1.105-py3-none-manylinux1_x86_64.whl (823 kB)\n",
            "Collecting nvidia-cuda-cupti-cu12==12.1.105 (from torch)\n",
            "  Using cached nvidia_cuda_cupti_cu12-12.1.105-py3-none-manylinux1_x86_64.whl (14.1 MB)\n",
            "Collecting nvidia-cudnn-cu12==8.9.2.26 (from torch)\n",
            "  Using cached nvidia_cudnn_cu12-8.9.2.26-py3-none-manylinux1_x86_64.whl (731.7 MB)\n",
            "Collecting nvidia-cublas-cu12==12.1.3.1 (from torch)\n",
            "  Using cached nvidia_cublas_cu12-12.1.3.1-py3-none-manylinux1_x86_64.whl (410.6 MB)\n",
            "Collecting nvidia-cufft-cu12==11.0.2.54 (from torch)\n",
            "  Using cached nvidia_cufft_cu12-11.0.2.54-py3-none-manylinux1_x86_64.whl (121.6 MB)\n",
            "Collecting nvidia-curand-cu12==10.3.2.106 (from torch)\n",
            "  Using cached nvidia_curand_cu12-10.3.2.106-py3-none-manylinux1_x86_64.whl (56.5 MB)\n",
            "Collecting nvidia-cusolver-cu12==11.4.5.107 (from torch)\n",
            "  Using cached nvidia_cusolver_cu12-11.4.5.107-py3-none-manylinux1_x86_64.whl (124.2 MB)\n",
            "Collecting nvidia-cusparse-cu12==12.1.0.106 (from torch)\n",
            "  Using cached nvidia_cusparse_cu12-12.1.0.106-py3-none-manylinux1_x86_64.whl (196.0 MB)\n",
            "Collecting nvidia-nccl-cu12==2.20.5 (from torch)\n",
            "  Using cached nvidia_nccl_cu12-2.20.5-py3-none-manylinux2014_x86_64.whl (176.2 MB)\n",
            "Collecting nvidia-nvtx-cu12==12.1.105 (from torch)\n",
            "  Using cached nvidia_nvtx_cu12-12.1.105-py3-none-manylinux1_x86_64.whl (99 kB)\n",
            "Requirement already satisfied: triton==2.3.0 in /usr/local/lib/python3.10/dist-packages (from torch) (2.3.0)\n",
            "Collecting nvidia-nvjitlink-cu12 (from nvidia-cusolver-cu12==11.4.5.107->torch)\n",
            "  Downloading nvidia_nvjitlink_cu12-12.5.40-py3-none-manylinux2014_x86_64.whl (21.3 MB)\n",
            "\u001b[2K     \u001b[90m━━━━━━━━━━━━━━━━━━━━━━━━━━━━━━━━━━━━━━━━\u001b[0m \u001b[32m21.3/21.3 MB\u001b[0m \u001b[31m61.9 MB/s\u001b[0m eta \u001b[36m0:00:00\u001b[0m\n",
            "\u001b[?25hRequirement already satisfied: numpy in /usr/local/lib/python3.10/dist-packages (from torchvision) (1.25.2)\n",
            "Requirement already satisfied: pillow!=8.3.*,>=5.3.0 in /usr/local/lib/python3.10/dist-packages (from torchvision) (9.4.0)\n",
            "Requirement already satisfied: MarkupSafe>=2.0 in /usr/local/lib/python3.10/dist-packages (from jinja2->torch) (2.1.5)\n",
            "Requirement already satisfied: mpmath>=0.19 in /usr/local/lib/python3.10/dist-packages (from sympy->torch) (1.3.0)\n",
            "Installing collected packages: nvidia-nvtx-cu12, nvidia-nvjitlink-cu12, nvidia-nccl-cu12, nvidia-curand-cu12, nvidia-cufft-cu12, nvidia-cuda-runtime-cu12, nvidia-cuda-nvrtc-cu12, nvidia-cuda-cupti-cu12, nvidia-cublas-cu12, nvidia-cusparse-cu12, nvidia-cudnn-cu12, nvidia-cusolver-cu12\n",
            "Successfully installed nvidia-cublas-cu12-12.1.3.1 nvidia-cuda-cupti-cu12-12.1.105 nvidia-cuda-nvrtc-cu12-12.1.105 nvidia-cuda-runtime-cu12-12.1.105 nvidia-cudnn-cu12-8.9.2.26 nvidia-cufft-cu12-11.0.2.54 nvidia-curand-cu12-10.3.2.106 nvidia-cusolver-cu12-11.4.5.107 nvidia-cusparse-cu12-12.1.0.106 nvidia-nccl-cu12-2.20.5 nvidia-nvjitlink-cu12-12.5.40 nvidia-nvtx-cu12-12.1.105\n",
            "Collecting torch-geometric\n",
            "  Downloading torch_geometric-2.5.3-py3-none-any.whl (1.1 MB)\n",
            "\u001b[2K     \u001b[90m━━━━━━━━━━━━━━━━━━━━━━━━━━━━━━━━━━━━━━━━\u001b[0m \u001b[32m1.1/1.1 MB\u001b[0m \u001b[31m19.4 MB/s\u001b[0m eta \u001b[36m0:00:00\u001b[0m\n",
            "\u001b[?25hRequirement already satisfied: tqdm in /usr/local/lib/python3.10/dist-packages (from torch-geometric) (4.66.4)\n",
            "Requirement already satisfied: numpy in /usr/local/lib/python3.10/dist-packages (from torch-geometric) (1.25.2)\n",
            "Requirement already satisfied: scipy in /usr/local/lib/python3.10/dist-packages (from torch-geometric) (1.11.4)\n",
            "Requirement already satisfied: fsspec in /usr/local/lib/python3.10/dist-packages (from torch-geometric) (2023.6.0)\n",
            "Requirement already satisfied: jinja2 in /usr/local/lib/python3.10/dist-packages (from torch-geometric) (3.1.4)\n",
            "Requirement already satisfied: aiohttp in /usr/local/lib/python3.10/dist-packages (from torch-geometric) (3.9.5)\n",
            "Requirement already satisfied: requests in /usr/local/lib/python3.10/dist-packages (from torch-geometric) (2.31.0)\n",
            "Requirement already satisfied: pyparsing in /usr/local/lib/python3.10/dist-packages (from torch-geometric) (3.1.2)\n",
            "Requirement already satisfied: scikit-learn in /usr/local/lib/python3.10/dist-packages (from torch-geometric) (1.2.2)\n",
            "Requirement already satisfied: psutil>=5.8.0 in /usr/local/lib/python3.10/dist-packages (from torch-geometric) (5.9.5)\n",
            "Requirement already satisfied: aiosignal>=1.1.2 in /usr/local/lib/python3.10/dist-packages (from aiohttp->torch-geometric) (1.3.1)\n",
            "Requirement already satisfied: attrs>=17.3.0 in /usr/local/lib/python3.10/dist-packages (from aiohttp->torch-geometric) (23.2.0)\n",
            "Requirement already satisfied: frozenlist>=1.1.1 in /usr/local/lib/python3.10/dist-packages (from aiohttp->torch-geometric) (1.4.1)\n",
            "Requirement already satisfied: multidict<7.0,>=4.5 in /usr/local/lib/python3.10/dist-packages (from aiohttp->torch-geometric) (6.0.5)\n",
            "Requirement already satisfied: yarl<2.0,>=1.0 in /usr/local/lib/python3.10/dist-packages (from aiohttp->torch-geometric) (1.9.4)\n",
            "Requirement already satisfied: async-timeout<5.0,>=4.0 in /usr/local/lib/python3.10/dist-packages (from aiohttp->torch-geometric) (4.0.3)\n",
            "Requirement already satisfied: MarkupSafe>=2.0 in /usr/local/lib/python3.10/dist-packages (from jinja2->torch-geometric) (2.1.5)\n",
            "Requirement already satisfied: charset-normalizer<4,>=2 in /usr/local/lib/python3.10/dist-packages (from requests->torch-geometric) (3.3.2)\n",
            "Requirement already satisfied: idna<4,>=2.5 in /usr/local/lib/python3.10/dist-packages (from requests->torch-geometric) (3.7)\n",
            "Requirement already satisfied: urllib3<3,>=1.21.1 in /usr/local/lib/python3.10/dist-packages (from requests->torch-geometric) (2.0.7)\n",
            "Requirement already satisfied: certifi>=2017.4.17 in /usr/local/lib/python3.10/dist-packages (from requests->torch-geometric) (2024.2.2)\n",
            "Requirement already satisfied: joblib>=1.1.1 in /usr/local/lib/python3.10/dist-packages (from scikit-learn->torch-geometric) (1.4.2)\n",
            "Requirement already satisfied: threadpoolctl>=2.0.0 in /usr/local/lib/python3.10/dist-packages (from scikit-learn->torch-geometric) (3.5.0)\n",
            "Installing collected packages: torch-geometric\n",
            "Successfully installed torch-geometric-2.5.3\n",
            "Collecting osmnx\n",
            "  Downloading osmnx-1.9.3-py3-none-any.whl (107 kB)\n",
            "\u001b[2K     \u001b[90m━━━━━━━━━━━━━━━━━━━━━━━━━━━━━━━━━━━━━━━━\u001b[0m \u001b[32m107.2/107.2 kB\u001b[0m \u001b[31m2.2 MB/s\u001b[0m eta \u001b[36m0:00:00\u001b[0m\n",
            "\u001b[?25hRequirement already satisfied: geopandas>=0.12 in /usr/local/lib/python3.10/dist-packages (from osmnx) (0.13.2)\n",
            "Requirement already satisfied: networkx>=2.5 in /usr/local/lib/python3.10/dist-packages (from osmnx) (3.3)\n",
            "Requirement already satisfied: numpy>=1.20 in /usr/local/lib/python3.10/dist-packages (from osmnx) (1.25.2)\n",
            "Requirement already satisfied: pandas>=1.1 in /usr/local/lib/python3.10/dist-packages (from osmnx) (2.0.3)\n",
            "Requirement already satisfied: requests>=2.27 in /usr/local/lib/python3.10/dist-packages (from osmnx) (2.31.0)\n",
            "Requirement already satisfied: shapely>=2.0 in /usr/local/lib/python3.10/dist-packages (from osmnx) (2.0.4)\n",
            "Requirement already satisfied: fiona>=1.8.19 in /usr/local/lib/python3.10/dist-packages (from geopandas>=0.12->osmnx) (1.9.6)\n",
            "Requirement already satisfied: packaging in /usr/local/lib/python3.10/dist-packages (from geopandas>=0.12->osmnx) (24.0)\n",
            "Requirement already satisfied: pyproj>=3.0.1 in /usr/local/lib/python3.10/dist-packages (from geopandas>=0.12->osmnx) (3.6.1)\n",
            "Requirement already satisfied: python-dateutil>=2.8.2 in /usr/local/lib/python3.10/dist-packages (from pandas>=1.1->osmnx) (2.8.2)\n",
            "Requirement already satisfied: pytz>=2020.1 in /usr/local/lib/python3.10/dist-packages (from pandas>=1.1->osmnx) (2023.4)\n",
            "Requirement already satisfied: tzdata>=2022.1 in /usr/local/lib/python3.10/dist-packages (from pandas>=1.1->osmnx) (2024.1)\n",
            "Requirement already satisfied: charset-normalizer<4,>=2 in /usr/local/lib/python3.10/dist-packages (from requests>=2.27->osmnx) (3.3.2)\n",
            "Requirement already satisfied: idna<4,>=2.5 in /usr/local/lib/python3.10/dist-packages (from requests>=2.27->osmnx) (3.7)\n",
            "Requirement already satisfied: urllib3<3,>=1.21.1 in /usr/local/lib/python3.10/dist-packages (from requests>=2.27->osmnx) (2.0.7)\n",
            "Requirement already satisfied: certifi>=2017.4.17 in /usr/local/lib/python3.10/dist-packages (from requests>=2.27->osmnx) (2024.2.2)\n",
            "Requirement already satisfied: attrs>=19.2.0 in /usr/local/lib/python3.10/dist-packages (from fiona>=1.8.19->geopandas>=0.12->osmnx) (23.2.0)\n",
            "Requirement already satisfied: click~=8.0 in /usr/local/lib/python3.10/dist-packages (from fiona>=1.8.19->geopandas>=0.12->osmnx) (8.1.7)\n",
            "Requirement already satisfied: click-plugins>=1.0 in /usr/local/lib/python3.10/dist-packages (from fiona>=1.8.19->geopandas>=0.12->osmnx) (1.1.1)\n",
            "Requirement already satisfied: cligj>=0.5 in /usr/local/lib/python3.10/dist-packages (from fiona>=1.8.19->geopandas>=0.12->osmnx) (0.7.2)\n",
            "Requirement already satisfied: six in /usr/local/lib/python3.10/dist-packages (from fiona>=1.8.19->geopandas>=0.12->osmnx) (1.16.0)\n",
            "Installing collected packages: osmnx\n",
            "Successfully installed osmnx-1.9.3\n"
          ]
        }
      ],
      "source": [
        "!pip install torch torchvision\n",
        "!pip install torch-geometric\n",
        "!pip install osmnx"
      ]
    },
    {
      "cell_type": "code",
      "execution_count": 2,
      "id": "24d9642c",
      "metadata": {
        "id": "24d9642c"
      },
      "outputs": [],
      "source": [
        "import osmnx as ox\n",
        "from shapely.geometry import Polygon, Point\n",
        "import pandas as pd\n",
        "import numpy as np"
      ]
    },
    {
      "cell_type": "code",
      "source": [
        "from google.colab import drive\n",
        "drive.mount('/content/drive')"
      ],
      "metadata": {
        "colab": {
          "base_uri": "https://localhost:8080/"
        },
        "id": "UxdGeQnocAM3",
        "outputId": "a99752eb-e170-44f2-dcd5-17da9700fdcd"
      },
      "id": "UxdGeQnocAM3",
      "execution_count": 3,
      "outputs": [
        {
          "output_type": "stream",
          "name": "stdout",
          "text": [
            "Mounted at /content/drive\n"
          ]
        }
      ]
    },
    {
      "cell_type": "markdown",
      "id": "d8a6fa76",
      "metadata": {
        "id": "d8a6fa76"
      },
      "source": [
        "Load the map."
      ]
    },
    {
      "cell_type": "code",
      "execution_count": 4,
      "id": "497feaaf",
      "metadata": {
        "id": "497feaaf"
      },
      "outputs": [],
      "source": [
        "G = ox.load_graphml('/content/drive/MyDrive/RAC/perth-drive-con-unprojected.graphml')\n",
        "\n",
        "nodes, edges = ox.graph_to_gdfs(G=G,nodes=True,edges=True)"
      ]
    },
    {
      "cell_type": "code",
      "source": [
        "nodes.info()"
      ],
      "metadata": {
        "colab": {
          "base_uri": "https://localhost:8080/"
        },
        "id": "2hYYbkG_r-w_",
        "outputId": "46e564aa-d626-4d0e-bac4-28d152c2e567"
      },
      "id": "2hYYbkG_r-w_",
      "execution_count": 5,
      "outputs": [
        {
          "output_type": "stream",
          "name": "stdout",
          "text": [
            "<class 'geopandas.geodataframe.GeoDataFrame'>\n",
            "Index: 27946 entries, 0 to 27940\n",
            "Data columns (total 8 columns):\n",
            " #   Column          Non-Null Count  Dtype   \n",
            "---  ------          --------------  -----   \n",
            " 0   osmid_original  27946 non-null  object  \n",
            " 1   y               27946 non-null  float64 \n",
            " 2   x               27946 non-null  float64 \n",
            " 3   street_count    27946 non-null  int64   \n",
            " 4   lon             20903 non-null  float64 \n",
            " 5   lat             20903 non-null  float64 \n",
            " 6   highway         185 non-null    object  \n",
            " 7   geometry        27946 non-null  geometry\n",
            "dtypes: float64(4), geometry(1), int64(1), object(2)\n",
            "memory usage: 1.9+ MB\n"
          ]
        }
      ]
    },
    {
      "cell_type": "code",
      "source": [
        "nodes.head(10)"
      ],
      "metadata": {
        "colab": {
          "base_uri": "https://localhost:8080/",
          "height": 568
        },
        "id": "bMpSgMwAqzK2",
        "outputId": "0a05dc92-3302-4201-f56d-98f69624b4cf"
      },
      "id": "bMpSgMwAqzK2",
      "execution_count": 6,
      "outputs": [
        {
          "output_type": "execute_result",
          "data": {
            "text/plain": [
              "                                          osmid_original          y  \\\n",
              "osmid                                                                 \n",
              "0                                             1577031431 -32.050319   \n",
              "1                                               25587710 -32.048072   \n",
              "1078                                          6207919999 -32.050641   \n",
              "2                                               25587739 -32.046925   \n",
              "3                                               25587759 -32.046860   \n",
              "4                     [25587740, 5846127771, 5846127770] -32.046362   \n",
              "5                                               25587741 -32.045499   \n",
              "8                                 [31052695, 1577031487] -32.046694   \n",
              "6      [5368400610, 5368400607, 5368400609, 536840061... -32.042844   \n",
              "1123                                          5846114891 -32.041602   \n",
              "\n",
              "                x  street_count         lon        lat highway  \\\n",
              "osmid                                                            \n",
              "0      115.733562             3  115.733562 -32.050319     NaN   \n",
              "1      115.735056             3  115.735056 -32.048072     NaN   \n",
              "1078   115.734231             3  115.734231 -32.050641     NaN   \n",
              "2      115.735934             3  115.735934 -32.046925     NaN   \n",
              "3      115.732605             3  115.732605 -32.046860     NaN   \n",
              "4      115.736475             0         NaN        NaN     NaN   \n",
              "5      115.735516             3  115.735516 -32.045499     NaN   \n",
              "8      115.737650             0         NaN        NaN     NaN   \n",
              "6      115.737782             0         NaN        NaN     NaN   \n",
              "1123   115.739042             3  115.739042 -32.041602     NaN   \n",
              "\n",
              "                          geometry  \n",
              "osmid                               \n",
              "0      POINT (115.73356 -32.05032)  \n",
              "1      POINT (115.73506 -32.04807)  \n",
              "1078   POINT (115.73423 -32.05064)  \n",
              "2      POINT (115.73593 -32.04692)  \n",
              "3      POINT (115.73260 -32.04686)  \n",
              "4      POINT (115.73647 -32.04636)  \n",
              "5      POINT (115.73552 -32.04550)  \n",
              "8      POINT (115.73765 -32.04669)  \n",
              "6      POINT (115.73778 -32.04284)  \n",
              "1123   POINT (115.73904 -32.04160)  "
            ],
            "text/html": [
              "\n",
              "  <div id=\"df-470ebb24-73f8-44c5-ad98-7d26085d4001\" class=\"colab-df-container\">\n",
              "    <div>\n",
              "<style scoped>\n",
              "    .dataframe tbody tr th:only-of-type {\n",
              "        vertical-align: middle;\n",
              "    }\n",
              "\n",
              "    .dataframe tbody tr th {\n",
              "        vertical-align: top;\n",
              "    }\n",
              "\n",
              "    .dataframe thead th {\n",
              "        text-align: right;\n",
              "    }\n",
              "</style>\n",
              "<table border=\"1\" class=\"dataframe\">\n",
              "  <thead>\n",
              "    <tr style=\"text-align: right;\">\n",
              "      <th></th>\n",
              "      <th>osmid_original</th>\n",
              "      <th>y</th>\n",
              "      <th>x</th>\n",
              "      <th>street_count</th>\n",
              "      <th>lon</th>\n",
              "      <th>lat</th>\n",
              "      <th>highway</th>\n",
              "      <th>geometry</th>\n",
              "    </tr>\n",
              "    <tr>\n",
              "      <th>osmid</th>\n",
              "      <th></th>\n",
              "      <th></th>\n",
              "      <th></th>\n",
              "      <th></th>\n",
              "      <th></th>\n",
              "      <th></th>\n",
              "      <th></th>\n",
              "      <th></th>\n",
              "    </tr>\n",
              "  </thead>\n",
              "  <tbody>\n",
              "    <tr>\n",
              "      <th>0</th>\n",
              "      <td>1577031431</td>\n",
              "      <td>-32.050319</td>\n",
              "      <td>115.733562</td>\n",
              "      <td>3</td>\n",
              "      <td>115.733562</td>\n",
              "      <td>-32.050319</td>\n",
              "      <td>NaN</td>\n",
              "      <td>POINT (115.73356 -32.05032)</td>\n",
              "    </tr>\n",
              "    <tr>\n",
              "      <th>1</th>\n",
              "      <td>25587710</td>\n",
              "      <td>-32.048072</td>\n",
              "      <td>115.735056</td>\n",
              "      <td>3</td>\n",
              "      <td>115.735056</td>\n",
              "      <td>-32.048072</td>\n",
              "      <td>NaN</td>\n",
              "      <td>POINT (115.73506 -32.04807)</td>\n",
              "    </tr>\n",
              "    <tr>\n",
              "      <th>1078</th>\n",
              "      <td>6207919999</td>\n",
              "      <td>-32.050641</td>\n",
              "      <td>115.734231</td>\n",
              "      <td>3</td>\n",
              "      <td>115.734231</td>\n",
              "      <td>-32.050641</td>\n",
              "      <td>NaN</td>\n",
              "      <td>POINT (115.73423 -32.05064)</td>\n",
              "    </tr>\n",
              "    <tr>\n",
              "      <th>2</th>\n",
              "      <td>25587739</td>\n",
              "      <td>-32.046925</td>\n",
              "      <td>115.735934</td>\n",
              "      <td>3</td>\n",
              "      <td>115.735934</td>\n",
              "      <td>-32.046925</td>\n",
              "      <td>NaN</td>\n",
              "      <td>POINT (115.73593 -32.04692)</td>\n",
              "    </tr>\n",
              "    <tr>\n",
              "      <th>3</th>\n",
              "      <td>25587759</td>\n",
              "      <td>-32.046860</td>\n",
              "      <td>115.732605</td>\n",
              "      <td>3</td>\n",
              "      <td>115.732605</td>\n",
              "      <td>-32.046860</td>\n",
              "      <td>NaN</td>\n",
              "      <td>POINT (115.73260 -32.04686)</td>\n",
              "    </tr>\n",
              "    <tr>\n",
              "      <th>4</th>\n",
              "      <td>[25587740, 5846127771, 5846127770]</td>\n",
              "      <td>-32.046362</td>\n",
              "      <td>115.736475</td>\n",
              "      <td>0</td>\n",
              "      <td>NaN</td>\n",
              "      <td>NaN</td>\n",
              "      <td>NaN</td>\n",
              "      <td>POINT (115.73647 -32.04636)</td>\n",
              "    </tr>\n",
              "    <tr>\n",
              "      <th>5</th>\n",
              "      <td>25587741</td>\n",
              "      <td>-32.045499</td>\n",
              "      <td>115.735516</td>\n",
              "      <td>3</td>\n",
              "      <td>115.735516</td>\n",
              "      <td>-32.045499</td>\n",
              "      <td>NaN</td>\n",
              "      <td>POINT (115.73552 -32.04550)</td>\n",
              "    </tr>\n",
              "    <tr>\n",
              "      <th>8</th>\n",
              "      <td>[31052695, 1577031487]</td>\n",
              "      <td>-32.046694</td>\n",
              "      <td>115.737650</td>\n",
              "      <td>0</td>\n",
              "      <td>NaN</td>\n",
              "      <td>NaN</td>\n",
              "      <td>NaN</td>\n",
              "      <td>POINT (115.73765 -32.04669)</td>\n",
              "    </tr>\n",
              "    <tr>\n",
              "      <th>6</th>\n",
              "      <td>[5368400610, 5368400607, 5368400609, 536840061...</td>\n",
              "      <td>-32.042844</td>\n",
              "      <td>115.737782</td>\n",
              "      <td>0</td>\n",
              "      <td>NaN</td>\n",
              "      <td>NaN</td>\n",
              "      <td>NaN</td>\n",
              "      <td>POINT (115.73778 -32.04284)</td>\n",
              "    </tr>\n",
              "    <tr>\n",
              "      <th>1123</th>\n",
              "      <td>5846114891</td>\n",
              "      <td>-32.041602</td>\n",
              "      <td>115.739042</td>\n",
              "      <td>3</td>\n",
              "      <td>115.739042</td>\n",
              "      <td>-32.041602</td>\n",
              "      <td>NaN</td>\n",
              "      <td>POINT (115.73904 -32.04160)</td>\n",
              "    </tr>\n",
              "  </tbody>\n",
              "</table>\n",
              "</div>\n",
              "    <div class=\"colab-df-buttons\">\n",
              "\n",
              "  <div class=\"colab-df-container\">\n",
              "    <button class=\"colab-df-convert\" onclick=\"convertToInteractive('df-470ebb24-73f8-44c5-ad98-7d26085d4001')\"\n",
              "            title=\"Convert this dataframe to an interactive table.\"\n",
              "            style=\"display:none;\">\n",
              "\n",
              "  <svg xmlns=\"http://www.w3.org/2000/svg\" height=\"24px\" viewBox=\"0 -960 960 960\">\n",
              "    <path d=\"M120-120v-720h720v720H120Zm60-500h600v-160H180v160Zm220 220h160v-160H400v160Zm0 220h160v-160H400v160ZM180-400h160v-160H180v160Zm440 0h160v-160H620v160ZM180-180h160v-160H180v160Zm440 0h160v-160H620v160Z\"/>\n",
              "  </svg>\n",
              "    </button>\n",
              "\n",
              "  <style>\n",
              "    .colab-df-container {\n",
              "      display:flex;\n",
              "      gap: 12px;\n",
              "    }\n",
              "\n",
              "    .colab-df-convert {\n",
              "      background-color: #E8F0FE;\n",
              "      border: none;\n",
              "      border-radius: 50%;\n",
              "      cursor: pointer;\n",
              "      display: none;\n",
              "      fill: #1967D2;\n",
              "      height: 32px;\n",
              "      padding: 0 0 0 0;\n",
              "      width: 32px;\n",
              "    }\n",
              "\n",
              "    .colab-df-convert:hover {\n",
              "      background-color: #E2EBFA;\n",
              "      box-shadow: 0px 1px 2px rgba(60, 64, 67, 0.3), 0px 1px 3px 1px rgba(60, 64, 67, 0.15);\n",
              "      fill: #174EA6;\n",
              "    }\n",
              "\n",
              "    .colab-df-buttons div {\n",
              "      margin-bottom: 4px;\n",
              "    }\n",
              "\n",
              "    [theme=dark] .colab-df-convert {\n",
              "      background-color: #3B4455;\n",
              "      fill: #D2E3FC;\n",
              "    }\n",
              "\n",
              "    [theme=dark] .colab-df-convert:hover {\n",
              "      background-color: #434B5C;\n",
              "      box-shadow: 0px 1px 3px 1px rgba(0, 0, 0, 0.15);\n",
              "      filter: drop-shadow(0px 1px 2px rgba(0, 0, 0, 0.3));\n",
              "      fill: #FFFFFF;\n",
              "    }\n",
              "  </style>\n",
              "\n",
              "    <script>\n",
              "      const buttonEl =\n",
              "        document.querySelector('#df-470ebb24-73f8-44c5-ad98-7d26085d4001 button.colab-df-convert');\n",
              "      buttonEl.style.display =\n",
              "        google.colab.kernel.accessAllowed ? 'block' : 'none';\n",
              "\n",
              "      async function convertToInteractive(key) {\n",
              "        const element = document.querySelector('#df-470ebb24-73f8-44c5-ad98-7d26085d4001');\n",
              "        const dataTable =\n",
              "          await google.colab.kernel.invokeFunction('convertToInteractive',\n",
              "                                                    [key], {});\n",
              "        if (!dataTable) return;\n",
              "\n",
              "        const docLinkHtml = 'Like what you see? Visit the ' +\n",
              "          '<a target=\"_blank\" href=https://colab.research.google.com/notebooks/data_table.ipynb>data table notebook</a>'\n",
              "          + ' to learn more about interactive tables.';\n",
              "        element.innerHTML = '';\n",
              "        dataTable['output_type'] = 'display_data';\n",
              "        await google.colab.output.renderOutput(dataTable, element);\n",
              "        const docLink = document.createElement('div');\n",
              "        docLink.innerHTML = docLinkHtml;\n",
              "        element.appendChild(docLink);\n",
              "      }\n",
              "    </script>\n",
              "  </div>\n",
              "\n",
              "\n",
              "<div id=\"df-7e17bdbb-0afc-48f4-af43-ab0654b7776d\">\n",
              "  <button class=\"colab-df-quickchart\" onclick=\"quickchart('df-7e17bdbb-0afc-48f4-af43-ab0654b7776d')\"\n",
              "            title=\"Suggest charts\"\n",
              "            style=\"display:none;\">\n",
              "\n",
              "<svg xmlns=\"http://www.w3.org/2000/svg\" height=\"24px\"viewBox=\"0 0 24 24\"\n",
              "     width=\"24px\">\n",
              "    <g>\n",
              "        <path d=\"M19 3H5c-1.1 0-2 .9-2 2v14c0 1.1.9 2 2 2h14c1.1 0 2-.9 2-2V5c0-1.1-.9-2-2-2zM9 17H7v-7h2v7zm4 0h-2V7h2v10zm4 0h-2v-4h2v4z\"/>\n",
              "    </g>\n",
              "</svg>\n",
              "  </button>\n",
              "\n",
              "<style>\n",
              "  .colab-df-quickchart {\n",
              "      --bg-color: #E8F0FE;\n",
              "      --fill-color: #1967D2;\n",
              "      --hover-bg-color: #E2EBFA;\n",
              "      --hover-fill-color: #174EA6;\n",
              "      --disabled-fill-color: #AAA;\n",
              "      --disabled-bg-color: #DDD;\n",
              "  }\n",
              "\n",
              "  [theme=dark] .colab-df-quickchart {\n",
              "      --bg-color: #3B4455;\n",
              "      --fill-color: #D2E3FC;\n",
              "      --hover-bg-color: #434B5C;\n",
              "      --hover-fill-color: #FFFFFF;\n",
              "      --disabled-bg-color: #3B4455;\n",
              "      --disabled-fill-color: #666;\n",
              "  }\n",
              "\n",
              "  .colab-df-quickchart {\n",
              "    background-color: var(--bg-color);\n",
              "    border: none;\n",
              "    border-radius: 50%;\n",
              "    cursor: pointer;\n",
              "    display: none;\n",
              "    fill: var(--fill-color);\n",
              "    height: 32px;\n",
              "    padding: 0;\n",
              "    width: 32px;\n",
              "  }\n",
              "\n",
              "  .colab-df-quickchart:hover {\n",
              "    background-color: var(--hover-bg-color);\n",
              "    box-shadow: 0 1px 2px rgba(60, 64, 67, 0.3), 0 1px 3px 1px rgba(60, 64, 67, 0.15);\n",
              "    fill: var(--button-hover-fill-color);\n",
              "  }\n",
              "\n",
              "  .colab-df-quickchart-complete:disabled,\n",
              "  .colab-df-quickchart-complete:disabled:hover {\n",
              "    background-color: var(--disabled-bg-color);\n",
              "    fill: var(--disabled-fill-color);\n",
              "    box-shadow: none;\n",
              "  }\n",
              "\n",
              "  .colab-df-spinner {\n",
              "    border: 2px solid var(--fill-color);\n",
              "    border-color: transparent;\n",
              "    border-bottom-color: var(--fill-color);\n",
              "    animation:\n",
              "      spin 1s steps(1) infinite;\n",
              "  }\n",
              "\n",
              "  @keyframes spin {\n",
              "    0% {\n",
              "      border-color: transparent;\n",
              "      border-bottom-color: var(--fill-color);\n",
              "      border-left-color: var(--fill-color);\n",
              "    }\n",
              "    20% {\n",
              "      border-color: transparent;\n",
              "      border-left-color: var(--fill-color);\n",
              "      border-top-color: var(--fill-color);\n",
              "    }\n",
              "    30% {\n",
              "      border-color: transparent;\n",
              "      border-left-color: var(--fill-color);\n",
              "      border-top-color: var(--fill-color);\n",
              "      border-right-color: var(--fill-color);\n",
              "    }\n",
              "    40% {\n",
              "      border-color: transparent;\n",
              "      border-right-color: var(--fill-color);\n",
              "      border-top-color: var(--fill-color);\n",
              "    }\n",
              "    60% {\n",
              "      border-color: transparent;\n",
              "      border-right-color: var(--fill-color);\n",
              "    }\n",
              "    80% {\n",
              "      border-color: transparent;\n",
              "      border-right-color: var(--fill-color);\n",
              "      border-bottom-color: var(--fill-color);\n",
              "    }\n",
              "    90% {\n",
              "      border-color: transparent;\n",
              "      border-bottom-color: var(--fill-color);\n",
              "    }\n",
              "  }\n",
              "</style>\n",
              "\n",
              "  <script>\n",
              "    async function quickchart(key) {\n",
              "      const quickchartButtonEl =\n",
              "        document.querySelector('#' + key + ' button');\n",
              "      quickchartButtonEl.disabled = true;  // To prevent multiple clicks.\n",
              "      quickchartButtonEl.classList.add('colab-df-spinner');\n",
              "      try {\n",
              "        const charts = await google.colab.kernel.invokeFunction(\n",
              "            'suggestCharts', [key], {});\n",
              "      } catch (error) {\n",
              "        console.error('Error during call to suggestCharts:', error);\n",
              "      }\n",
              "      quickchartButtonEl.classList.remove('colab-df-spinner');\n",
              "      quickchartButtonEl.classList.add('colab-df-quickchart-complete');\n",
              "    }\n",
              "    (() => {\n",
              "      let quickchartButtonEl =\n",
              "        document.querySelector('#df-7e17bdbb-0afc-48f4-af43-ab0654b7776d button');\n",
              "      quickchartButtonEl.style.display =\n",
              "        google.colab.kernel.accessAllowed ? 'block' : 'none';\n",
              "    })();\n",
              "  </script>\n",
              "</div>\n",
              "\n",
              "    </div>\n",
              "  </div>\n"
            ],
            "application/vnd.google.colaboratory.intrinsic+json": {
              "type": "dataframe",
              "variable_name": "nodes",
              "summary": "{\n  \"name\": \"nodes\",\n  \"rows\": 27946,\n  \"fields\": [\n    {\n      \"column\": \"osmid\",\n      \"properties\": {\n        \"dtype\": \"number\",\n        \"std\": 8067,\n        \"min\": 0,\n        \"max\": 27945,\n        \"num_unique_values\": 27946,\n        \"samples\": [\n          27516,\n          12078,\n          8899\n        ],\n        \"semantic_type\": \"\",\n        \"description\": \"\"\n      }\n    },\n    {\n      \"column\": \"osmid_original\",\n      \"properties\": {\n        \"dtype\": \"object\",\n        \"semantic_type\": \"\",\n        \"description\": \"\"\n      }\n    },\n    {\n      \"column\": \"y\",\n      \"properties\": {\n        \"dtype\": \"number\",\n        \"std\": 0.11643074002505854,\n        \"min\": -32.180617500000004,\n        \"max\": -31.712021499999995,\n        \"num_unique_values\": 27891,\n        \"samples\": [\n          -31.922139,\n          -32.0863979,\n          -31.86372360000001\n        ],\n        \"semantic_type\": \"\",\n        \"description\": \"\"\n      }\n    },\n    {\n      \"column\": \"x\",\n      \"properties\": {\n        \"dtype\": \"number\",\n        \"std\": 0.07137997456672322,\n        \"min\": 115.71478740000002,\n        \"max\": 116.07456279999998,\n        \"num_unique_values\": 27783,\n        \"samples\": [\n          115.94450274855632,\n          115.71945879999237,\n          115.7580877\n        ],\n        \"semantic_type\": \"\",\n        \"description\": \"\"\n      }\n    },\n    {\n      \"column\": \"street_count\",\n      \"properties\": {\n        \"dtype\": \"number\",\n        \"std\": 1,\n        \"min\": 0,\n        \"max\": 6,\n        \"num_unique_values\": 6,\n        \"samples\": [\n          3,\n          0,\n          6\n        ],\n        \"semantic_type\": \"\",\n        \"description\": \"\"\n      }\n    },\n    {\n      \"column\": \"lon\",\n      \"properties\": {\n        \"dtype\": \"number\",\n        \"std\": 0.0717181109527772,\n        \"min\": 115.7147874,\n        \"max\": 116.0745628,\n        \"num_unique_values\": 20740,\n        \"samples\": [\n          115.8255837,\n          115.7321028,\n          115.8836538\n        ],\n        \"semantic_type\": \"\",\n        \"description\": \"\"\n      }\n    },\n    {\n      \"column\": \"lat\",\n      \"properties\": {\n        \"dtype\": \"number\",\n        \"std\": 0.11656003313188211,\n        \"min\": -32.1806175,\n        \"max\": -31.7120215,\n        \"num_unique_values\": 20755,\n        \"samples\": [\n          -32.0741772,\n          -31.9373821,\n          -32.0895647\n        ],\n        \"semantic_type\": \"\",\n        \"description\": \"\"\n      }\n    },\n    {\n      \"column\": \"highway\",\n      \"properties\": {\n        \"dtype\": \"category\",\n        \"num_unique_values\": 6,\n        \"samples\": [\n          \"crossing\",\n          \"turning_circle\",\n          \"construction\"\n        ],\n        \"semantic_type\": \"\",\n        \"description\": \"\"\n      }\n    },\n    {\n      \"column\": \"geometry\",\n      \"properties\": {\n        \"dtype\": \"geometry\",\n        \"num_unique_values\": 27946,\n        \"samples\": [\n          \"POINT (115.87780280000001 -32.11721270000001)\",\n          \"POINT (115.758029 -31.863155800000005)\",\n          \"POINT (115.82710919999998 -31.859989400000003)\"\n        ],\n        \"semantic_type\": \"\",\n        \"description\": \"\"\n      }\n    }\n  ]\n}"
            }
          },
          "metadata": {},
          "execution_count": 6
        }
      ]
    },
    {
      "cell_type": "markdown",
      "id": "a665e1b3",
      "metadata": {
        "id": "a665e1b3"
      },
      "source": [
        "Load data."
      ]
    },
    {
      "cell_type": "code",
      "execution_count": 7,
      "id": "fb6b6680",
      "metadata": {
        "id": "fb6b6680"
      },
      "outputs": [],
      "source": [
        "crash_df = pd.read_csv('/content/drive/MyDrive/RAC/Crash_Information.csv', usecols=['X', 'Y', 'ACCIDENT_TYPE', 'SEVERITY'])\n",
        "\n",
        "lon_values = [G.nodes[node]['x'] for node in G.nodes()]\n",
        "lat_values = [G.nodes[node]['y'] for node in G.nodes()]\n",
        "\n",
        "min_lon = min(lon_values)\n",
        "max_lon = max(lon_values)\n",
        "min_lat = min(lat_values)\n",
        "max_lat = max(lat_values)\n",
        "\n",
        "filtered_df = crash_df[(crash_df['X'] >= min_lon) &\n",
        "                 (crash_df['X'] <= max_lon) &\n",
        "                 (crash_df['Y'] >= min_lat) &\n",
        "                 (crash_df['Y'] <= max_lat)]"
      ]
    },
    {
      "cell_type": "code",
      "source": [
        "intersection_df = filtered_df[filtered_df['ACCIDENT_TYPE'] == 'Intersection']"
      ],
      "metadata": {
        "id": "6tGmVfKKglKl"
      },
      "id": "6tGmVfKKglKl",
      "execution_count": 8,
      "outputs": []
    },
    {
      "cell_type": "code",
      "source": [
        "intersection_df.info()"
      ],
      "metadata": {
        "colab": {
          "base_uri": "https://localhost:8080/"
        },
        "id": "l44vMNLHf36O",
        "outputId": "9b5b8cd9-16b6-4973-b83f-aa9d4f495e0c"
      },
      "id": "l44vMNLHf36O",
      "execution_count": 9,
      "outputs": [
        {
          "output_type": "stream",
          "name": "stdout",
          "text": [
            "<class 'pandas.core.frame.DataFrame'>\n",
            "Index: 53950 entries, 0 to 127198\n",
            "Data columns (total 4 columns):\n",
            " #   Column         Non-Null Count  Dtype  \n",
            "---  ------         --------------  -----  \n",
            " 0   X              53950 non-null  float64\n",
            " 1   Y              53950 non-null  float64\n",
            " 2   ACCIDENT_TYPE  53950 non-null  object \n",
            " 3   SEVERITY       53950 non-null  object \n",
            "dtypes: float64(2), object(2)\n",
            "memory usage: 2.1+ MB\n"
          ]
        }
      ]
    },
    {
      "cell_type": "code",
      "execution_count": 10,
      "id": "f6ae14e8",
      "metadata": {
        "id": "f6ae14e8"
      },
      "outputs": [],
      "source": [
        "def calculate_ksi(group):\n",
        "    ksi_crash = group[(group['SEVERITY'] == 'Fatal') | (group['SEVERITY'] == 'Hospital')].shape[0]\n",
        "    medical_crash = group[group['SEVERITY'] == 'Medical'].shape[0]\n",
        "    casualty_crash = ksi_crash + medical_crash\n",
        "    if casualty_crash == 0:\n",
        "        return 0\n",
        "    ksi_metric = ksi_crash + ksi_crash / casualty_crash * medical_crash\n",
        "    return ksi_metric\n",
        "\n",
        "# Apply the function to each group\n",
        "ksi_metrics = intersection_df.groupby(['X', 'Y']).apply(calculate_ksi).reset_index(name='KSI_metric')\n",
        "\n",
        "# Merge the KSI metric back to the original dataframe\n",
        "intersection_df = intersection_df.merge(ksi_metrics, on=['X', 'Y'], how='left')\n",
        "intersection_df = intersection_df.drop(['SEVERITY'], axis=1)"
      ]
    },
    {
      "cell_type": "code",
      "execution_count": 11,
      "id": "617f5a79",
      "metadata": {
        "id": "617f5a79"
      },
      "outputs": [],
      "source": [
        "from sklearn.preprocessing import MinMaxScaler\n",
        "\n",
        "scaler = MinMaxScaler()\n",
        "# Normalize 'KSI_METRIC'\n",
        "norm_df = intersection_df.copy()\n",
        "norm_df[['KSI_metric']] = scaler.fit_transform(norm_df[['KSI_metric']])"
      ]
    },
    {
      "cell_type": "code",
      "execution_count": 12,
      "id": "c888e8d3",
      "metadata": {
        "id": "c888e8d3"
      },
      "outputs": [],
      "source": [
        "norm_df[['x', 'y']] = norm_df[['X', 'Y']].values\n",
        "norm_df = norm_df.drop(['X', 'Y','ACCIDENT_TYPE'], axis=1)"
      ]
    },
    {
      "cell_type": "code",
      "source": [
        "uni_df = norm_df.drop_duplicates(subset=['x', 'y'])"
      ],
      "metadata": {
        "id": "t-kS3osm7NZx"
      },
      "id": "t-kS3osm7NZx",
      "execution_count": 13,
      "outputs": []
    },
    {
      "cell_type": "code",
      "source": [
        "high = uni_df['KSI_metric'].quantile(0.95)\n",
        "med = uni_df['KSI_metric'].quantile(0.9)\n",
        "low = uni_df['KSI_metric'].quantile(0.85)\n",
        "\n",
        "# Define a function to categorize values as 'high' or 'low'\n",
        "def categorize(value, high, med, low):\n",
        "    if value >= high:\n",
        "        return 'high'\n",
        "    elif value >= med:\n",
        "        return 'medium'\n",
        "    elif value >= low:\n",
        "        return 'low'\n",
        "    else:\n",
        "        return 'safe'\n",
        "\n",
        "uni_df['risk_lvl'] = uni_df['KSI_metric'].apply(lambda x: categorize(x, high, med, low))\n",
        "\n",
        "print(uni_df['risk_lvl'].value_counts())"
      ],
      "metadata": {
        "colab": {
          "base_uri": "https://localhost:8080/"
        },
        "id": "-q7br1_UymB3",
        "outputId": "8fe4029a-722f-4ca5-dea3-1d69769117d6"
      },
      "id": "-q7br1_UymB3",
      "execution_count": 14,
      "outputs": [
        {
          "output_type": "stream",
          "name": "stdout",
          "text": [
            "risk_lvl\n",
            "safe      7092\n",
            "low        523\n",
            "medium     501\n",
            "high       451\n",
            "Name: count, dtype: int64\n"
          ]
        },
        {
          "output_type": "stream",
          "name": "stderr",
          "text": [
            "<ipython-input-14-d5b063559f50>:16: SettingWithCopyWarning: \n",
            "A value is trying to be set on a copy of a slice from a DataFrame.\n",
            "Try using .loc[row_indexer,col_indexer] = value instead\n",
            "\n",
            "See the caveats in the documentation: https://pandas.pydata.org/pandas-docs/stable/user_guide/indexing.html#returning-a-view-versus-a-copy\n",
            "  uni_df['risk_lvl'] = uni_df['KSI_metric'].apply(lambda x: categorize(x, high, med, low))\n"
          ]
        }
      ]
    },
    {
      "cell_type": "code",
      "source": [
        "uni_df = uni_df.drop(['KSI_metric'], axis=1)"
      ],
      "metadata": {
        "id": "XNwv0t_7z-3m"
      },
      "id": "XNwv0t_7z-3m",
      "execution_count": 15,
      "outputs": []
    },
    {
      "cell_type": "code",
      "source": [
        "from sklearn.preprocessing import LabelEncoder\n",
        "\n",
        "# Initialize LabelEncoder\n",
        "label_encoder = LabelEncoder()\n",
        "\n",
        "# Fit and transform the 'risk_lvl' column\n",
        "uni_df['risk_lvl_encoded'] = label_encoder.fit_transform(uni_df['risk_lvl'])\n",
        "\n",
        "# Define the mapping manually\n",
        "label_mapping = {'safe': 0, 'low': 1, 'medium': 2, 'high': 3}\n",
        "\n",
        "# Map the labels to their encoded values\n",
        "uni_df['risk_lvl_encoded'] = uni_df['risk_lvl'].map(label_mapping)"
      ],
      "metadata": {
        "id": "2bmCsq7-0Npx"
      },
      "id": "2bmCsq7-0Npx",
      "execution_count": 16,
      "outputs": []
    },
    {
      "cell_type": "code",
      "source": [
        "uni_df = uni_df.drop(['risk_lvl'], axis=1)"
      ],
      "metadata": {
        "id": "Y6b-9XCR00xB"
      },
      "id": "Y6b-9XCR00xB",
      "execution_count": 17,
      "outputs": []
    },
    {
      "cell_type": "code",
      "execution_count": 18,
      "id": "3a8c0e77",
      "metadata": {
        "id": "3a8c0e77"
      },
      "outputs": [],
      "source": [
        "import pandas as pd\n",
        "import geopandas as gpd\n",
        "from shapely.geometry import Point\n",
        "\n",
        "# Convert accident DataFrame to GeoDataFrame\n",
        "accident_geometry = [Point(xy) for xy in zip(uni_df['x'], uni_df['y'])]\n",
        "accident_gdf = gpd.GeoDataFrame(uni_df, geometry=accident_geometry, crs='EPSG:4326')"
      ]
    },
    {
      "cell_type": "code",
      "execution_count": 19,
      "id": "9976c794",
      "metadata": {
        "id": "9976c794"
      },
      "outputs": [],
      "source": [
        "import geopandas as gpd\n",
        "from shapely.geometry import Point\n",
        "from sklearn.neighbors import BallTree\n",
        "\n",
        "# Convert the x, y coordinates from nodes to a numpy array\n",
        "nodes_array = np.column_stack((nodes['x'], nodes['y']))\n",
        "\n",
        "# Build a BallTree for nearest neighbor search\n",
        "tree = BallTree(nodes_array, leaf_size=15)\n",
        "\n",
        "matched_nodes = accident_gdf.copy()\n",
        "\n",
        "# Define a function to find the nearest point and return its geometry\n",
        "def find_nearest_geometry(row):\n",
        "    point = np.array([[row['x'], row['y']]])\n",
        "    dist, ind = tree.query(point, k=1)\n",
        "    nearest_index = ind[0][0]\n",
        "    return nodes.iloc[nearest_index]['geometry']\n",
        "\n",
        "matched_nodes['geometry'] = matched_nodes.apply(find_nearest_geometry, axis=1)\n",
        "accident_nodes = gpd.GeoDataFrame(matched_nodes, geometry=matched_nodes['geometry'], crs='EPSG:4326')"
      ]
    },
    {
      "cell_type": "code",
      "execution_count": 20,
      "id": "954afb07",
      "metadata": {
        "id": "954afb07"
      },
      "outputs": [],
      "source": [
        "from sklearn.model_selection import train_test_split\n",
        "X = accident_nodes.drop(columns=['risk_lvl_encoded'])\n",
        "y = accident_nodes[['risk_lvl_encoded']]\n",
        "train_nodes, test_nodes, y_train, y_test = train_test_split(X, y, test_size=0.2, random_state=33)"
      ]
    },
    {
      "cell_type": "code",
      "execution_count": 21,
      "id": "e094c985",
      "metadata": {
        "id": "e094c985"
      },
      "outputs": [],
      "source": [
        "train_edges = gpd.sjoin(edges, train_nodes, how=\"inner\", predicate=\"intersects\")\n",
        "train_edges = train_edges[['oneway', 'geometry']]\n",
        "test_edges = gpd.sjoin(edges, test_nodes, how=\"inner\", predicate=\"intersects\")\n",
        "test_edges = test_edges[['oneway', 'geometry']]"
      ]
    },
    {
      "cell_type": "code",
      "execution_count": 23,
      "id": "9bd5e667",
      "metadata": {
        "id": "9bd5e667"
      },
      "outputs": [],
      "source": [
        "import torch\n",
        "import torch.nn as nn\n",
        "import torch.nn.functional as F\n",
        "from torch_geometric.data import Data\n",
        "from torch_geometric.loader import DataLoader\n",
        "from torch_geometric.nn import GCNConv\n",
        "import networkx as nx\n",
        "import geopandas as gpd\n",
        "\n",
        "G_train = nx.Graph()\n",
        "for idx, row in train_nodes.iterrows():\n",
        "    G_train.add_node(idx, x=row['x'], y=row['y'])\n",
        "for idx, row in train_edges.iterrows():\n",
        "    G_train.add_edge(row.name[0], row.name[1], oneway=row['oneway'])\n",
        "\n",
        "G_train.add_edges_from(nx.selfloop_edges(G_train))\n",
        "\n",
        "x = torch.tensor(train_nodes[['x', 'y']].values, dtype=torch.float)\n",
        "# Ensure that node indices in the edge index are within the range of the number of nodes\n",
        "edge_index = torch.tensor(np.array(list(G_train.edges())).T, dtype=torch.long)\n",
        "edge_index = edge_index.remainder(len(train_nodes))  # Ensure node indices are within bounds\n",
        "edge_attr = torch.tensor(train_edges['oneway'].values, dtype=torch.float)"
      ]
    },
    {
      "cell_type": "code",
      "execution_count": 27,
      "id": "6235782c",
      "metadata": {
        "id": "6235782c"
      },
      "outputs": [],
      "source": [
        "# Define GNN model\n",
        "class GCN(nn.Module):\n",
        "    def __init__(self):\n",
        "        super(GCN, self).__init__()\n",
        "        self.conv1 = GCNConv(2, 64)\n",
        "        self.conv2 = GCNConv(64, 32)\n",
        "        self.conv3 = GCNConv(32, 4)\n",
        "\n",
        "    def forward(self, data):\n",
        "        x, edge_index, edge_attr = data.x, data.edge_index, data.edge_attr\n",
        "        x = self.conv1(x, edge_index)\n",
        "        x = F.relu(x)\n",
        "        x = F.dropout(x, 0.1)\n",
        "        x = self.conv2(x, edge_index)\n",
        "        x = F.relu(x)\n",
        "        x = F.dropout(x, 0.1)\n",
        "        x = self.conv3(x, edge_index)\n",
        "        return F.log_softmax(x, dim=1)  # Apply softmax activation function along the output dimension\n"
      ]
    },
    {
      "cell_type": "code",
      "execution_count": 24,
      "id": "e965f516",
      "metadata": {
        "id": "e965f516"
      },
      "outputs": [],
      "source": [
        "y_train_label = torch.tensor(y_train.values, dtype=torch.int64)\n",
        "y_train_label = torch.unsqueeze(y_train_label, dim=1)\n",
        "y_test_label = torch.tensor(y_test.values, dtype=torch.int64)\n",
        "y_test_label = torch.unsqueeze(y_test_label, dim=1)"
      ]
    },
    {
      "cell_type": "code",
      "execution_count": 25,
      "id": "4f84de18",
      "metadata": {
        "id": "4f84de18"
      },
      "outputs": [],
      "source": [
        "data = Data(x=x, edge_index=edge_index, edge_attr=edge_attr)\n",
        "loader = DataLoader([data], batch_size=1)"
      ]
    },
    {
      "cell_type": "code",
      "execution_count": null,
      "id": "470a0084",
      "metadata": {
        "id": "470a0084"
      },
      "outputs": [],
      "source": [
        "# # Initialize model and optimizer\n",
        "gcn_model = GCN()\n",
        "optimizer = torch.optim.Adam(gcn_model.parameters(), lr=0.01)"
      ]
    },
    {
      "cell_type": "code",
      "source": [
        "gcn_model = torch.load('/content/drive/MyDrive/RAC/model_7.pth')"
      ],
      "metadata": {
        "id": "TPsuz8bfuXSC"
      },
      "id": "TPsuz8bfuXSC",
      "execution_count": 28,
      "outputs": []
    },
    {
      "cell_type": "code",
      "execution_count": null,
      "id": "8028a224",
      "metadata": {
        "id": "8028a224",
        "colab": {
          "base_uri": "https://localhost:8080/"
        },
        "outputId": "ff3f9b7c-0fb3-44a8-9684-1e79a7a02379"
      },
      "outputs": [
        {
          "output_type": "stream",
          "name": "stderr",
          "text": [
            "<ipython-input-36-ad241bf2adb5>:8: UserWarning: Using a target size (torch.Size([6853, 1, 1])) that is different to the input size (torch.Size([6853, 4])). This will likely lead to incorrect results due to broadcasting. Please ensure they have the same size.\n",
            "  loss = F.l1_loss(out, y_train_label)\n"
          ]
        },
        {
          "output_type": "stream",
          "name": "stdout",
          "text": [
            "Epoch 50, loss: tensor(1.7294, grad_fn=<MeanBackward0>)\n",
            "Epoch 100, loss: tensor(1.7231, grad_fn=<MeanBackward0>)\n",
            "Epoch 150, loss: tensor(1.7229, grad_fn=<MeanBackward0>)\n",
            "Epoch 200, loss: tensor(1.7223, grad_fn=<MeanBackward0>)\n",
            "Epoch 250, loss: tensor(1.7230, grad_fn=<MeanBackward0>)\n",
            "Epoch 300, loss: tensor(1.7220, grad_fn=<MeanBackward0>)\n",
            "Epoch 350, loss: tensor(1.7218, grad_fn=<MeanBackward0>)\n",
            "Epoch 400, loss: tensor(1.7218, grad_fn=<MeanBackward0>)\n",
            "Epoch 450, loss: tensor(1.7218, grad_fn=<MeanBackward0>)\n",
            "Epoch 500, loss: tensor(1.7218, grad_fn=<MeanBackward0>)\n"
          ]
        }
      ],
      "source": [
        "# Training\n",
        "gcn_model.train()\n",
        "for epoch in range(500):\n",
        "    optimizer.zero_grad()\n",
        "    for data in loader:\n",
        "        out = gcn_model(data)\n",
        "        # Define MAE loss\n",
        "        loss = F.l1_loss(out, y_train_label)\n",
        "\n",
        "        # Backpropagation\n",
        "        loss.backward()\n",
        "        optimizer.step()\n",
        "\n",
        "    if (epoch+1)%50 == 0:\n",
        "        torch.save(gcn_model, '/content/drive/MyDrive/RAC/model_7.pth')\n",
        "        print(\"Epoch \"+str(epoch+1)+\", loss: \"+str(loss))"
      ]
    },
    {
      "cell_type": "code",
      "execution_count": null,
      "id": "28dd9d87",
      "metadata": {
        "id": "28dd9d87"
      },
      "outputs": [],
      "source": [
        "# gcn_model = torch.load('/content/drive/MyDrive/RAC Project/model/model_2000.pth')"
      ]
    },
    {
      "cell_type": "code",
      "execution_count": 29,
      "id": "a3f49290",
      "metadata": {
        "id": "a3f49290"
      },
      "outputs": [],
      "source": [
        "G_test = nx.Graph(crs='EPSG:4326')\n",
        "# G_test.crs\n",
        "for idx, row in test_nodes.iterrows():\n",
        "    G_test.add_node(idx, x=row['x'], y=row['y'])\n",
        "for idx, row in test_edges.iterrows():\n",
        "    G_test.add_edge(row.name[0], row.name[1], oneway=row['oneway'])\n",
        "\n",
        "G_test.add_edges_from(nx.selfloop_edges(G_test))\n",
        "\n",
        "x_test = torch.tensor(test_nodes[['x', 'y']].values, dtype=torch.float)\n",
        "edge_index_test = torch.tensor(np.array(list(G_test.edges())).T, dtype=torch.long)\n",
        "edge_index_test = edge_index_test.remainder(len(test_nodes))  # Ensure node indices are within bounds\n",
        "edge_attr_test = torch.tensor(test_edges['oneway'].values, dtype=torch.float)\n",
        "\n",
        "# Create DataLoader for test data\n",
        "test_data = Data(x=x_test, edge_index=edge_index_test, edge_attr=edge_attr_test)\n",
        "test_loader = DataLoader([test_data], batch_size=1)"
      ]
    },
    {
      "cell_type": "code",
      "source": [
        "x_val = torch.tensor(nodes[['x', 'y']].values, dtype=torch.float)\n",
        "edge_index_val = torch.tensor(np.array(list(G.edges())).T, dtype=torch.long)\n",
        "edge_index_val = edge_index_val.remainder(len(nodes))  # Ensure node indices are within bounds\n",
        "edge_attr_val = torch.tensor(edges['oneway'].values, dtype=torch.float)\n",
        "\n",
        "# Create DataLoader for test data\n",
        "val_data = Data(x=x_val, edge_index=edge_index_val, edge_attr=edge_attr_val)\n",
        "val_loader = DataLoader([val_data], batch_size=1)"
      ],
      "metadata": {
        "id": "sTFs0DD4fJYk"
      },
      "id": "sTFs0DD4fJYk",
      "execution_count": 45,
      "outputs": []
    },
    {
      "cell_type": "code",
      "source": [
        "gcn_model.eval()\n",
        "\n",
        "# Perform predictions\n",
        "predictions = []\n",
        "for data in test_loader:\n",
        "    with torch.no_grad():\n",
        "        out = gcn_model(data)\n",
        "        predicted_classes = out.argmax(dim=1)\n",
        "\n",
        "        predictions.append(predicted_classes)\n",
        "\n",
        "# Convert predictions to numpy array\n",
        "predictions = torch.cat(predictions).numpy()"
      ],
      "metadata": {
        "id": "g-zwQxWryYYk"
      },
      "id": "g-zwQxWryYYk",
      "execution_count": 41,
      "outputs": []
    },
    {
      "cell_type": "code",
      "source": [
        "gcn_model.eval()\n",
        "\n",
        "# Perform predictions\n",
        "predictions = []\n",
        "for data in loader:\n",
        "    with torch.no_grad():\n",
        "        out = gcn_model(data)\n",
        "        predicted_classes = out.argmax(dim=1)\n",
        "\n",
        "        predictions.append(predicted_classes)\n",
        "\n",
        "# Convert predictions to numpy array\n",
        "predictions_train = torch.cat(predictions).numpy()"
      ],
      "metadata": {
        "id": "1tEF0i6flBig"
      },
      "id": "1tEF0i6flBig",
      "execution_count": 33,
      "outputs": []
    },
    {
      "cell_type": "code",
      "source": [
        "y_train_values = y_train.values.flatten()  # Convert to a 1D array\n",
        "\n",
        "# Assuming predictions and y_test_values are numpy arrays\n",
        "num_correct = np.sum(predictions_train == y_train_values)\n",
        "\n",
        "# Calculate the total number of samples\n",
        "total_samples = len(predictions_train)\n",
        "\n",
        "# Calculate accuracy\n",
        "accuracy = num_correct / total_samples\n",
        "print(\"Accuracy:\", accuracy)"
      ],
      "metadata": {
        "colab": {
          "base_uri": "https://localhost:8080/"
        },
        "id": "wK3RXwcFlFd5",
        "outputId": "6fe93e6d-c710-49d1-c3d7-93cd5876dbe9"
      },
      "id": "wK3RXwcFlFd5",
      "execution_count": 34,
      "outputs": [
        {
          "output_type": "stream",
          "name": "stdout",
          "text": [
            "Accuracy: 0.8289800087552897\n"
          ]
        }
      ]
    },
    {
      "cell_type": "code",
      "source": [
        "from sklearn.metrics import f1_score\n",
        "\n",
        "f1 = f1_score(y_train_values, predictions_train, average='weighted')  # You can also use 'micro' or 'weighted'\n",
        "\n",
        "print(f'F1-score: {f1}')"
      ],
      "metadata": {
        "colab": {
          "base_uri": "https://localhost:8080/"
        },
        "id": "qcdKp_X8lPVH",
        "outputId": "a68d66c1-5e32-4597-b57b-226718bf03ee"
      },
      "id": "qcdKp_X8lPVH",
      "execution_count": 39,
      "outputs": [
        {
          "output_type": "stream",
          "name": "stdout",
          "text": [
            "F1-score: 0.752270559574432\n"
          ]
        }
      ]
    },
    {
      "cell_type": "code",
      "source": [
        "y_test_values = y_test.values.flatten()  # Convert to a 1D array\n",
        "\n",
        "# Assuming predictions and y_test_values are numpy arrays\n",
        "num_correct = np.sum(predictions == y_test_values)\n",
        "\n",
        "# Calculate the total number of samples\n",
        "total_samples = len(predictions)\n",
        "\n",
        "# Calculate accuracy\n",
        "accuracy = num_correct / total_samples\n",
        "print(\"Accuracy:\", accuracy)"
      ],
      "metadata": {
        "colab": {
          "base_uri": "https://localhost:8080/"
        },
        "id": "jfQE9nTTydyA",
        "outputId": "6946a578-91ab-4e54-e35a-2e7d5bf92da2"
      },
      "id": "jfQE9nTTydyA",
      "execution_count": 42,
      "outputs": [
        {
          "output_type": "stream",
          "name": "stdout",
          "text": [
            "Accuracy: 0.8208868144690782\n"
          ]
        }
      ]
    },
    {
      "cell_type": "code",
      "source": [
        "from sklearn.metrics import f1_score\n",
        "\n",
        "f1 = f1_score(y_test_values, predictions, average='weighted')  # You can also use 'micro' or 'weighted'\n",
        "\n",
        "print(f'F1-score: {f1}')"
      ],
      "metadata": {
        "colab": {
          "base_uri": "https://localhost:8080/"
        },
        "id": "DCzk0vNgjcPf",
        "outputId": "cf338fc1-a3aa-4005-a18e-88fa668a686c"
      },
      "id": "DCzk0vNgjcPf",
      "execution_count": 43,
      "outputs": [
        {
          "output_type": "stream",
          "name": "stdout",
          "text": [
            "F1-score: 0.7401395373008606\n"
          ]
        }
      ]
    },
    {
      "cell_type": "code",
      "execution_count": 46,
      "id": "58f98c02",
      "metadata": {
        "id": "58f98c02"
      },
      "outputs": [],
      "source": [
        "gcn_model.eval()\n",
        "\n",
        "# Perform predictions\n",
        "predictions = []\n",
        "for data in val_loader:\n",
        "    with torch.no_grad():\n",
        "        out = gcn_model(data)\n",
        "        predicted_classes = out.argmax(dim=1)\n",
        "        # predicted_classes = torch.where(predicted_classes == 0, 5, predicted_classes)\n",
        "        # predicted_classes = torch.where(predicted_classes == 4, 0, predicted_classes)\n",
        "        # predicted_classes = torch.where(predicted_classes == 5, 4, predicted_classes)\n",
        "\n",
        "        predictions.append(predicted_classes)\n",
        "\n",
        "# Convert predictions to numpy array\n",
        "predictions = torch.cat(predictions).numpy()"
      ]
    },
    {
      "cell_type": "code",
      "source": [
        "nodes['risk_lvl'] = predictions\n",
        "nodes['osmid'] = nodes['osmid_original']"
      ],
      "metadata": {
        "id": "1iuPEoXziaFh"
      },
      "id": "1iuPEoXziaFh",
      "execution_count": 47,
      "outputs": []
    },
    {
      "cell_type": "code",
      "source": [
        "nodes.info()"
      ],
      "metadata": {
        "colab": {
          "base_uri": "https://localhost:8080/"
        },
        "id": "s3UUYSObi5yF",
        "outputId": "60b81b79-391a-403d-9570-9bf946c172b2"
      },
      "id": "s3UUYSObi5yF",
      "execution_count": null,
      "outputs": [
        {
          "output_type": "stream",
          "name": "stdout",
          "text": [
            "<class 'geopandas.geodataframe.GeoDataFrame'>\n",
            "Index: 27946 entries, 0 to 27940\n",
            "Data columns (total 10 columns):\n",
            " #   Column          Non-Null Count  Dtype   \n",
            "---  ------          --------------  -----   \n",
            " 0   osmid_original  27946 non-null  object  \n",
            " 1   y               27946 non-null  float64 \n",
            " 2   x               27946 non-null  float64 \n",
            " 3   street_count    27946 non-null  int64   \n",
            " 4   lon             20903 non-null  float64 \n",
            " 5   lat             20903 non-null  float64 \n",
            " 6   highway         185 non-null    object  \n",
            " 7   geometry        27946 non-null  geometry\n",
            " 8   risk_lvl        27946 non-null  int64   \n",
            " 9   osmid           27946 non-null  object  \n",
            "dtypes: float64(4), geometry(1), int64(2), object(3)\n",
            "memory usage: 2.3+ MB\n"
          ]
        }
      ]
    },
    {
      "cell_type": "code",
      "source": [
        "nodes[['osmid', 'risk_lvl']].to_csv('predicted_nodes.csv', index=False)"
      ],
      "metadata": {
        "id": "S1tPOORmi9sY"
      },
      "id": "S1tPOORmi9sY",
      "execution_count": null,
      "outputs": []
    },
    {
      "cell_type": "code",
      "source": [
        "from collections import Counter\n",
        "count = Counter(predictions)\n",
        "\n",
        "# Print the counts for each class from 0 to 4\n",
        "for i in range(5):\n",
        "    print(f\"Class {i}: {count[i]}\")"
      ],
      "metadata": {
        "id": "N3Hj_TFMgXFr",
        "colab": {
          "base_uri": "https://localhost:8080/"
        },
        "outputId": "c61ef5c4-9660-4b8c-f200-7da74adf0915"
      },
      "id": "N3Hj_TFMgXFr",
      "execution_count": 48,
      "outputs": [
        {
          "output_type": "stream",
          "name": "stdout",
          "text": [
            "Class 0: 27946\n",
            "Class 1: 0\n",
            "Class 2: 0\n",
            "Class 3: 0\n",
            "Class 4: 0\n"
          ]
        }
      ]
    },
    {
      "cell_type": "code",
      "execution_count": null,
      "id": "75ebbfaf",
      "metadata": {
        "colab": {
          "base_uri": "https://localhost:8080/"
        },
        "id": "75ebbfaf",
        "outputId": "2a629ab0-cb1a-44af-e7ed-06b1fc8d9dee"
      },
      "outputs": [
        {
          "output_type": "stream",
          "name": "stdout",
          "text": [
            "R2 score: -0.23363716522718314\n"
          ]
        }
      ],
      "source": [
        "from sklearn.metrics import r2_score\n",
        "\n",
        "# Assuming y_true contains the true target values and y_pred contains the predicted target values\n",
        "\n",
        "# Calculate R2 score\n",
        "r2 = r2_score(y_test, predictions)\n",
        "\n",
        "print(\"R2 score:\", r2)"
      ]
    },
    {
      "cell_type": "code",
      "execution_count": null,
      "id": "141ed3e0",
      "metadata": {
        "id": "141ed3e0",
        "colab": {
          "base_uri": "https://localhost:8080/",
          "height": 216
        },
        "outputId": "e8e2225f-b8aa-4390-af07-bca78e4336c4"
      },
      "outputs": [
        {
          "output_type": "error",
          "ename": "ValueError",
          "evalue": "operands could not be broadcast together with shapes (27946,) (1714,) ",
          "traceback": [
            "\u001b[0;31m---------------------------------------------------------------------------\u001b[0m",
            "\u001b[0;31mValueError\u001b[0m                                Traceback (most recent call last)",
            "\u001b[0;32m<ipython-input-47-00a1d6d5e3ed>\u001b[0m in \u001b[0;36m<cell line: 4>\u001b[0;34m()\u001b[0m\n\u001b[1;32m      2\u001b[0m \u001b[0;34m\u001b[0m\u001b[0m\n\u001b[1;32m      3\u001b[0m \u001b[0;31m# Assuming predictions and y_test_values are numpy arrays\u001b[0m\u001b[0;34m\u001b[0m\u001b[0;34m\u001b[0m\u001b[0m\n\u001b[0;32m----> 4\u001b[0;31m \u001b[0mnum_correct\u001b[0m \u001b[0;34m=\u001b[0m \u001b[0mnp\u001b[0m\u001b[0;34m.\u001b[0m\u001b[0msum\u001b[0m\u001b[0;34m(\u001b[0m\u001b[0mpredictions\u001b[0m \u001b[0;34m==\u001b[0m \u001b[0my_test_values\u001b[0m\u001b[0;34m)\u001b[0m\u001b[0;34m\u001b[0m\u001b[0;34m\u001b[0m\u001b[0m\n\u001b[0m\u001b[1;32m      5\u001b[0m \u001b[0;34m\u001b[0m\u001b[0m\n\u001b[1;32m      6\u001b[0m \u001b[0;31m# Calculate the total number of samples\u001b[0m\u001b[0;34m\u001b[0m\u001b[0;34m\u001b[0m\u001b[0m\n",
            "\u001b[0;31mValueError\u001b[0m: operands could not be broadcast together with shapes (27946,) (1714,) "
          ]
        }
      ],
      "source": [
        "y_test_values = y_test.values.flatten()  # Convert to a 1D array\n",
        "\n",
        "# Assuming predictions and y_test_values are numpy arrays\n",
        "num_correct = np.sum(predictions == y_test_values)\n",
        "\n",
        "# Calculate the total number of samples\n",
        "total_samples = len(predictions)\n",
        "\n",
        "# Calculate accuracy\n",
        "accuracy = num_correct / total_samples\n",
        "print(\"Accuracy:\", accuracy)"
      ]
    }
  ],
  "metadata": {
    "colab": {
      "provenance": []
    },
    "kernelspec": {
      "display_name": "Python 3",
      "name": "python3"
    },
    "language_info": {
      "codemirror_mode": {
        "name": "ipython",
        "version": 3
      },
      "file_extension": ".py",
      "mimetype": "text/x-python",
      "name": "python",
      "nbconvert_exporter": "python",
      "pygments_lexer": "ipython3",
      "version": "3.11.7"
    }
  },
  "nbformat": 4,
  "nbformat_minor": 5
}